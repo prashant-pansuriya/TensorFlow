{
  "nbformat": 4,
  "nbformat_minor": 0,
  "metadata": {
    "colab": {
      "name": "Image classification cat and dog using tensorflow.ipynb",
      "version": "0.3.2",
      "provenance": []
    },
    "kernelspec": {
      "name": "python3",
      "display_name": "Python 3"
    },
    "accelerator": "GPU"
  },
  "cells": [
    {
      "cell_type": "code",
      "metadata": {
        "id": "3Chait-0sKkg",
        "colab_type": "code",
        "colab": {}
      },
      "source": [
        "import tensorflow as tf\n",
        "import matplotlib.pyplot as plt\n",
        "%matplotlib inline\n",
        "from tqdm import tqdm\n",
        "import numpy as np\n",
        "import os \n",
        "from random import shuffle\n",
        "import cv2\n",
        "import glob"
      ],
      "execution_count": 0,
      "outputs": []
    },
    {
      "cell_type": "code",
      "metadata": {
        "id": "zeegMNVawPiS",
        "colab_type": "code",
        "colab": {}
      },
      "source": [
        "!unzip -qq ml.zip"
      ],
      "execution_count": 0,
      "outputs": []
    },
    {
      "cell_type": "code",
      "metadata": {
        "id": "4l6Xy2EdsWU1",
        "colab_type": "code",
        "colab": {}
      },
      "source": [
        "TEST_DIR = '/ml/test'\n",
        "TRAIN_DIR = '/ml/train'\n",
        "LEARNING_RATE = 1e-3\n",
        "MODEL_NAME = \"dogsvscats-{}-{}.model\".format(LEARNING_RATE,\"6conv-fire\")\n",
        "IMAGE_SIZE = 50"
      ],
      "execution_count": 0,
      "outputs": []
    },
    {
      "cell_type": "code",
      "metadata": {
        "id": "OWSj_BvisoOs",
        "colab_type": "code",
        "colab": {}
      },
      "source": [
        "def label_image(img):\n",
        "    img_name =img.split('/')[-1].split('.')[0]\n",
        "    \n",
        "    \n",
        "    if img_name == \"cat\":\n",
        "\n",
        "      return [1,0]\n",
        "\n",
        "    elif img_name == \"dog\":\n",
        "\n",
        "      return [0,1]"
      ],
      "execution_count": 0,
      "outputs": []
    },
    {
      "cell_type": "code",
      "metadata": {
        "id": "-O8rgogSsytA",
        "colab_type": "code",
        "colab": {}
      },
      "source": [
        "def train_data_loder():\n",
        "    training_data = []\n",
        "    \n",
        "    for img in glob.glob('ml/train/*.*'):\n",
        "            \n",
        "            img_lable = label_image(img)\n",
        "            \n",
        "            \n",
        "            img = cv2.resize(cv2.imread(img,cv2.IMREAD_GRAYSCALE),(IMAGE_SIZE,IMAGE_SIZE))\n",
        "            training_data.append([np.array(img),np.array(img_lable)])\n",
        "\n",
        "    shuffle(training_data)\n",
        "    \n",
        "    np.save(\"training_data_new.npy\",training_data)\n",
        "    \n",
        "    return training_data\n",
        "#This is for Testing Data\n",
        "def testing_data():\n",
        "    test_data = []\n",
        "    \n",
        "    for img in glob.glob('ml/test/*.*'):\n",
        "            img_labels =label_image(img)\n",
        "            \n",
        "            img = cv2.resize(cv2.imread(img,cv2.IMREAD_GRAYSCALE),(IMAGE_SIZE,IMAGE_SIZE))\n",
        "            test_data.append([np.array(img),np.array(img_labels)])\n",
        "\n",
        "    shuffle(test_data)\n",
        "    np.save(\"test_dataone.npy\",test_data)\n",
        "\n",
        "    return test_data\n"
      ],
      "execution_count": 0,
      "outputs": []
    },
    {
      "cell_type": "code",
      "metadata": {
        "id": "SrOcB-3gtEd_",
        "colab_type": "code",
        "colab": {
          "base_uri": "https://localhost:8080/",
          "height": 274
        },
        "outputId": "e5c44087-6cbb-4e15-bce8-e77eb48aca66"
      },
      "source": [
        "import tflearn\n",
        "from tflearn.layers.conv import conv_2d,max_pool_2d\n",
        "from tflearn.layers.core import input_data,dropout,fully_connected\n",
        "from tflearn.layers.estimator import regression"
      ],
      "execution_count": 6,
      "outputs": [
        {
          "output_type": "stream",
          "text": [
            "WARNING: Logging before flag parsing goes to stderr.\n",
            "W0713 13:20:31.646609 139826258933632 deprecation_wrapper.py:119] From /usr/local/lib/python3.6/dist-packages/tflearn/helpers/summarizer.py:9: The name tf.summary.merge is deprecated. Please use tf.compat.v1.summary.merge instead.\n",
            "\n",
            "W0713 13:20:31.647946 139826258933632 deprecation_wrapper.py:119] From /usr/local/lib/python3.6/dist-packages/tflearn/helpers/trainer.py:25: The name tf.summary.FileWriter is deprecated. Please use tf.compat.v1.summary.FileWriter instead.\n",
            "\n",
            "W0713 13:20:31.654664 139826258933632 deprecation_wrapper.py:119] From /usr/local/lib/python3.6/dist-packages/tflearn/collections.py:13: The name tf.GraphKeys is deprecated. Please use tf.compat.v1.GraphKeys instead.\n",
            "\n",
            "W0713 13:20:31.660392 139826258933632 deprecation_wrapper.py:119] From /usr/local/lib/python3.6/dist-packages/tflearn/config.py:123: The name tf.get_collection is deprecated. Please use tf.compat.v1.get_collection instead.\n",
            "\n",
            "W0713 13:20:31.670055 139826258933632 deprecation_wrapper.py:119] From /usr/local/lib/python3.6/dist-packages/tflearn/config.py:129: The name tf.add_to_collection is deprecated. Please use tf.compat.v1.add_to_collection instead.\n",
            "\n",
            "W0713 13:20:31.670912 139826258933632 deprecation_wrapper.py:119] From /usr/local/lib/python3.6/dist-packages/tflearn/config.py:131: The name tf.assign is deprecated. Please use tf.compat.v1.assign instead.\n",
            "\n"
          ],
          "name": "stderr"
        }
      ]
    },
    {
      "cell_type": "code",
      "metadata": {
        "id": "apmFA1e9tSNW",
        "colab_type": "code",
        "colab": {
          "base_uri": "https://localhost:8080/",
          "height": 546
        },
        "outputId": "d77b8c0a-a10d-4b20-b0de-986a62671220"
      },
      "source": [
        "import tensorflow as tf\n",
        "tf.reset_default_graph()\n",
        "\n",
        "convnet = input_data(shape=[\n",
        "None, IMAGE_SIZE, IMAGE_SIZE, 1], name='input')\n",
        "\n",
        "convnet = conv_2d(convnet, 32, 5, activation='relu')\n",
        "convnet = max_pool_2d(convnet, 5)\n",
        "\n",
        "convnet = conv_2d(convnet, 64, 5, activation='relu')\n",
        "convnet = max_pool_2d(convnet, 5)\n",
        "\n",
        "convnet = conv_2d(convnet, 128, 5, activation='relu')\n",
        "convnet = max_pool_2d(convnet, 5)\n",
        "\n",
        "convnet = conv_2d(convnet, 64, 5, activation='relu')\n",
        "convnet = max_pool_2d(convnet, 5)\n",
        "\n",
        "convnet = conv_2d(convnet, 32, 5, activation='relu')\n",
        "convnet = max_pool_2d(convnet, 5)\n",
        "\n",
        "convnet = fully_connected(convnet, 1024, activation='relu')\n",
        "convnet = dropout(convnet, 0.8)\n",
        "\n",
        "convnet = fully_connected(convnet, 2, activation='softmax')\n",
        "\n",
        "convnet = regression(convnet, optimizer='adam', learning_rate=LEARNING_RATE, loss='categorical_crossentropy', name='targets')\n",
        "\n",
        "model = tflearn.DNN(convnet, tensorboard_dir='log')\n"
      ],
      "execution_count": 7,
      "outputs": [
        {
          "output_type": "stream",
          "text": [
            "W0713 13:20:35.545091 139826258933632 deprecation_wrapper.py:119] From /usr/local/lib/python3.6/dist-packages/tflearn/layers/core.py:81: The name tf.placeholder is deprecated. Please use tf.compat.v1.placeholder instead.\n",
            "\n",
            "W0713 13:20:35.548011 139826258933632 deprecation.py:506] From /usr/local/lib/python3.6/dist-packages/tflearn/initializations.py:119: calling UniformUnitScaling.__init__ (from tensorflow.python.ops.init_ops) with dtype is deprecated and will be removed in a future version.\n",
            "Instructions for updating:\n",
            "Call initializer instance with the dtype argument instead of passing it to the constructor\n",
            "W0713 13:20:35.550296 139826258933632 deprecation.py:323] From /usr/local/lib/python3.6/dist-packages/tensorflow/python/util/deprecation.py:507: UniformUnitScaling.__init__ (from tensorflow.python.ops.init_ops) is deprecated and will be removed in a future version.\n",
            "Instructions for updating:\n",
            "Use tf.initializers.variance_scaling instead with distribution=uniform to get equivalent behavior.\n",
            "W0713 13:20:35.572711 139826258933632 deprecation_wrapper.py:119] From /usr/local/lib/python3.6/dist-packages/tflearn/layers/conv.py:552: The name tf.nn.max_pool is deprecated. Please use tf.nn.max_pool2d instead.\n",
            "\n",
            "W0713 13:20:35.627436 139826258933632 deprecation.py:506] From /usr/local/lib/python3.6/dist-packages/tflearn/initializations.py:174: calling TruncatedNormal.__init__ (from tensorflow.python.ops.init_ops) with dtype is deprecated and will be removed in a future version.\n",
            "Instructions for updating:\n",
            "Call initializer instance with the dtype argument instead of passing it to the constructor\n",
            "W0713 13:20:35.655428 139826258933632 deprecation.py:506] From /usr/local/lib/python3.6/dist-packages/tflearn/layers/core.py:239: calling dropout (from tensorflow.python.ops.nn_ops) with keep_prob is deprecated and will be removed in a future version.\n",
            "Instructions for updating:\n",
            "Please use `rate` instead of `keep_prob`. Rate should be set to `rate = 1 - keep_prob`.\n",
            "W0713 13:20:35.684301 139826258933632 deprecation_wrapper.py:119] From /usr/local/lib/python3.6/dist-packages/tflearn/optimizers.py:238: The name tf.train.AdamOptimizer is deprecated. Please use tf.compat.v1.train.AdamOptimizer instead.\n",
            "\n",
            "W0713 13:20:35.696954 139826258933632 deprecation.py:506] From /usr/local/lib/python3.6/dist-packages/tflearn/objectives.py:66: calling reduce_sum_v1 (from tensorflow.python.ops.math_ops) with keep_dims is deprecated and will be removed in a future version.\n",
            "Instructions for updating:\n",
            "keep_dims is deprecated, use keepdims instead\n",
            "W0713 13:20:37.094385 139826258933632 deprecation_wrapper.py:119] From /usr/local/lib/python3.6/dist-packages/tflearn/summaries.py:46: The name tf.summary.scalar is deprecated. Please use tf.compat.v1.summary.scalar instead.\n",
            "\n",
            "W0713 13:20:37.278817 139826258933632 deprecation.py:323] From /usr/local/lib/python3.6/dist-packages/tensorflow/python/ops/math_grad.py:1250: add_dispatch_support.<locals>.wrapper (from tensorflow.python.ops.array_ops) is deprecated and will be removed in a future version.\n",
            "Instructions for updating:\n",
            "Use tf.where in 2.0, which has the same broadcast rule as np.where\n",
            "W0713 13:20:37.572696 139826258933632 deprecation_wrapper.py:119] From /usr/local/lib/python3.6/dist-packages/tflearn/helpers/trainer.py:134: The name tf.train.Saver is deprecated. Please use tf.compat.v1.train.Saver instead.\n",
            "\n"
          ],
          "name": "stderr"
        }
      ]
    },
    {
      "cell_type": "code",
      "metadata": {
        "id": "6EFh9ZfyvctJ",
        "colab_type": "code",
        "colab": {}
      },
      "source": [
        "train_data=train_data_loder()"
      ],
      "execution_count": 0,
      "outputs": []
    },
    {
      "cell_type": "code",
      "metadata": {
        "id": "lC35etaxxwyQ",
        "colab_type": "code",
        "colab": {}
      },
      "source": [
        "\n",
        "train = train_data[:]\n"
      ],
      "execution_count": 0,
      "outputs": []
    },
    {
      "cell_type": "code",
      "metadata": {
        "id": "a1pqW6FbyZUo",
        "colab_type": "code",
        "colab": {}
      },
      "source": [
        "test=testing_data()"
      ],
      "execution_count": 0,
      "outputs": []
    },
    {
      "cell_type": "code",
      "metadata": {
        "id": "5bxqZosgyqDy",
        "colab_type": "code",
        "colab": {}
      },
      "source": [
        "X = np.array([i[0] for i in train]).reshape(-1,IMAGE_SIZE,IMAGE_SIZE,1)\n",
        "Y = [i[1] for i in train]"
      ],
      "execution_count": 0,
      "outputs": []
    },
    {
      "cell_type": "code",
      "metadata": {
        "id": "2LK9ZrLty9Da",
        "colab_type": "code",
        "colab": {}
      },
      "source": [
        "test_x = np.array([i[0] for i in test]).reshape(-1,IMAGE_SIZE,IMAGE_SIZE,1)\n",
        "test_y = [i[1] for i in test]\n"
      ],
      "execution_count": 0,
      "outputs": []
    },
    {
      "cell_type": "code",
      "metadata": {
        "id": "zKmEWf7szDxP",
        "colab_type": "code",
        "outputId": "4c9f2760-3b21-431c-958f-0d7e0004c237",
        "colab": {
          "base_uri": "https://localhost:8080/",
          "height": 128
        }
      },
      "source": [
        "model.fit(X, Y, n_epoch=6, validation_set=(test_x,  test_y), \n",
        "    snapshot_step=500, show_metric=True, run_id=MODEL_NAME)"
      ],
      "execution_count": 13,
      "outputs": [
        {
          "output_type": "stream",
          "text": [
            "Training Step: 23  | total loss: \u001b[1m\u001b[32m0.68711\u001b[0m\u001b[0m | time: 0.036s\n",
            "| Adam | epoch: 006 | loss: 0.68711 - acc: 0.5790 -- iter: 192/200\n",
            "Training Step: 24  | total loss: \u001b[1m\u001b[32m0.70790\u001b[0m\u001b[0m | time: 1.048s\n",
            "| Adam | epoch: 006 | loss: 0.70790 - acc: 0.5304 | val_loss: 0.70235 - val_acc: 0.5000 -- iter: 200/200\n",
            "--\n"
          ],
          "name": "stdout"
        }
      ]
    },
    {
      "cell_type": "code",
      "metadata": {
        "id": "FDi2x1BwzLSm",
        "colab_type": "code",
        "colab": {}
      },
      "source": [
        "model.save(MODEL_NAME)"
      ],
      "execution_count": 0,
      "outputs": []
    },
    {
      "cell_type": "code",
      "metadata": {
        "id": "lfiYRyk80CMC",
        "colab_type": "code",
        "colab": {}
      },
      "source": [
        "test_data = np.load(\"test_dataone.npy\",allow_pickle=True)"
      ],
      "execution_count": 0,
      "outputs": []
    },
    {
      "cell_type": "code",
      "metadata": {
        "id": "ri0YjfqC0t6F",
        "colab_type": "code",
        "outputId": "b9f52ee0-d31e-4ae7-d7d1-55c2054fa39a",
        "colab": {
          "base_uri": "https://localhost:8080/",
          "height": 919
        }
      },
      "source": [
        "import matplotlib.pyplot as plt\n",
        "\n",
        "figs = plt.figure()\n",
        "for num,data in enumerate(test_data[:4]):\n",
        "    test_img = data[0]\n",
        "    \n",
        "    test_lable = data[1]\n",
        "    test_img_feed = test_img.reshape(IMAGE_SIZE,IMAGE_SIZE,1)\n",
        "    t = figs.add_subplot(3,4,num+1)\n",
        "    ores = test_img\n",
        "    \n",
        "    model_pred = model.predict([test_img_feed])[0]\n",
        "    \n",
        "    xs=np.array(['cat','dog'])\n",
        "    ys=np.array(model_pred)\n",
        "    plt.bar(xs,ys,color=['r','b'])\n",
        "    for x,y in zip(xs,ys):\n",
        "\n",
        "        label = \"{:.2f}\".format(y)\n",
        "\n",
        "        plt.annotate(label, # this is the text\n",
        "                     (x,y), # this is the point to label\n",
        "                     textcoords=\"offset points\", # how to position the text\n",
        "                     xytext=(0,-15), # distance from text to points (x,y)\n",
        "                     ha='center',color='green',size=15) # horizontal alignment can be left, right or center\n",
        "    \n",
        "    \n",
        "    if np.argmax(model_pred) == 1:\n",
        "        pred_val = \"Dog\"\n",
        "        plt.title('Dog')\n",
        "    else:\n",
        "        pred_val = \"Cat\"\n",
        "        plt.title('Cat')\n",
        "    plt.show()    \n",
        "        \n",
        "    \n"
      ],
      "execution_count": 18,
      "outputs": [
        {
          "output_type": "display_data",
          "data": {
            "image/png": "[encoded data removed]",
            "text/plain": [
              "<Figure size 432x288 with 1 Axes>"
            ]
          },
          "metadata": {
            "tags": []
          }
        },
        {
          "output_type": "display_data",
          "data": {
            "image/png": "[encoded data removed]",
            "text/plain": [
              "<Figure size 432x288 with 1 Axes>"
            ]
          },
          "metadata": {
            "tags": []
          }
        },
        {
          "output_type": "display_data",
          "data": {
            "image/png": "[encoded data removed]",
            "text/plain": [
              "<Figure size 432x288 with 1 Axes>"
            ]
          },
          "metadata": {
            "tags": []
          }
        },
        {
          "output_type": "display_data",
          "data": {
            "image/png": "[encoded data removed]",
            "text/plain": [
              "<Figure size 432x288 with 1 Axes>"
            ]
          },
          "metadata": {
            "tags": []
          }
        }
      ]
    },
    {
      "cell_type": "markdown",
      "metadata": {
        "id": "NEA5NAQ4_mU3",
        "colab_type": "text"
      },
      "source": [
        ""
      ]
    },
    {
      "cell_type": "code",
      "metadata": {
        "id": "-96qL4V45r_8",
        "colab_type": "code",
        "outputId": "69422d27-7e17-462f-e711-72ad30fe7b31",
        "colab": {
          "base_uri": "https://localhost:8080/",
          "height": 35
        }
      },
      "source": [
        "with open(\"final_results(dogs).csv\",mode=\"w\") as f:\n",
        "    f.write(\"id,pred \\n\")\n",
        "    \n",
        "with open(\"final_results.csv(dogs)\",mode=\"a\") as r:\n",
        "    for data in tqdm(test_data):\n",
        "        img_class = data[1]\n",
        "        img = data[0]\n",
        "        imgs = img.reshape((IMAGE_SIZE,IMAGE_SIZE,1))\n",
        "        model_out = model.predict([imgs])[0]\n",
        "        r.write(\"{},{} \\n\".format(img_class,model_out[1]))"
      ],
      "execution_count": 0,
      "outputs": [
        {
          "output_type": "stream",
          "text": [
            "100%|██████████| 40/40 [00:00<00:00, 312.90it/s]\n"
          ],
          "name": "stderr"
        }
      ]
    },
    {
      "cell_type": "code",
      "metadata": {
        "id": "-YAlF_E15yT6",
        "colab_type": "code",
        "colab": {}
      },
      "source": [
        ""
      ],
      "execution_count": 0,
      "outputs": []
    }
  ]
}