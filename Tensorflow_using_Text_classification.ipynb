{
  "nbformat": 4,
  "nbformat_minor": 0,
  "metadata": {
    "colab": {
      "name": "Tensorflow using Text classification.ipynb",
      "version": "0.3.2",
      "provenance": []
    },
    "kernelspec": {
      "name": "python3",
      "display_name": "Python 3"
    }
  },
  "cells": [
    {
      "cell_type": "code",
      "metadata": {
        "id": "mRieckgLtF8z",
        "colab_type": "code",
        "outputId": "c57003ba-35db-4138-b849-dedf2ee5e1ab",
        "colab": {
          "base_uri": "https://localhost:8080/",
          "height": 35
        }
      },
      "source": [
        "from __future__ import absolute_import, division, print_function, unicode_literals\n",
        "\n",
        "import tensorflow as tf\n",
        "from tensorflow import keras\n",
        "\n",
        "import numpy as np\n",
        "\n",
        "print(tf.__version__)"
      ],
      "execution_count": 0,
      "outputs": [
        {
          "output_type": "stream",
          "text": [
            "1.14.0\n"
          ],
          "name": "stdout"
        }
      ]
    },
    {
      "cell_type": "code",
      "metadata": {
        "id": "IgJfYPOqtX2u",
        "colab_type": "code",
        "colab": {}
      },
      "source": [
        "import pandas as pd\n",
        "dataset=pd.read_csv('Restaurant_Reviews.tsv', delimiter = '\\t', quoting = 3)"
      ],
      "execution_count": 0,
      "outputs": []
    },
    {
      "cell_type": "code",
      "metadata": {
        "id": "PFDT9Dk63JYN",
        "colab_type": "code",
        "outputId": "e1098dc6-bdd9-45e7-bdde-67a5bbb1a7dc",
        "colab": {
          "base_uri": "https://localhost:8080/",
          "height": 54
        }
      },
      "source": [
        "import re\n",
        "import nltk\n",
        "nltk.download('stopwords')\n",
        "from nltk.corpus import stopwords\n",
        "from nltk.stem.porter import PorterStemmer\n",
        "corpus = []\n",
        "for i in range(0, 1000):\n",
        "    review = re.sub('[^a-zA-Z]', ' ', dataset['Review'][i])\n",
        "    review = review.lower()\n",
        "    review = review.split()\n",
        "    ps = PorterStemmer()\n",
        "    review = [ps.stem(word) for word in review if not word in set(stopwords.words('english'))]\n",
        "    review = ' '.join(review)\n",
        "    corpus.append(review)\n",
        "\n",
        "# Creating the Bag of Words model\n",
        "from sklearn.feature_extraction.text import CountVectorizer\n",
        "cv = CountVectorizer(max_features = 1500)\n",
        "X = cv.fit_transform(corpus).toarray()\n",
        "y = dataset.iloc[:, 1].values\n"
      ],
      "execution_count": 0,
      "outputs": [
        {
          "output_type": "stream",
          "text": [
            "[nltk_data] Downloading package stopwords to /root/nltk_data...\n",
            "[nltk_data]   Unzipping corpora/stopwords.zip.\n"
          ],
          "name": "stdout"
        }
      ]
    },
    {
      "cell_type": "code",
      "metadata": {
        "id": "ymeIyTYW3y4Q",
        "colab_type": "code",
        "colab": {}
      },
      "source": [
        "from sklearn.model_selection import train_test_split\n",
        "X_train, X_test, y_train, y_test = train_test_split(X, y, test_size = 0.20, random_state = 0)\n"
      ],
      "execution_count": 0,
      "outputs": []
    },
    {
      "cell_type": "code",
      "metadata": {
        "id": "lILLXU58385-",
        "colab_type": "code",
        "outputId": "de917d04-785c-4ce2-8115-47d3a4564df4",
        "colab": {
          "base_uri": "https://localhost:8080/",
          "height": 455
        }
      },
      "source": [
        "vocab_size = 1000\n",
        "\n",
        "model = keras.Sequential()\n",
        "model.add(keras.layers.Embedding(vocab_size, 16))\n",
        "model.add(keras.layers.GlobalAveragePooling1D())\n",
        "model.add(keras.layers.Dense(16, activation=tf.nn.relu))\n",
        "model.add(keras.layers.Dense(1, activation=tf.nn.sigmoid))\n",
        "\n",
        "model.summary()"
      ],
      "execution_count": 0,
      "outputs": [
        {
          "output_type": "stream",
          "text": [
            "WARNING: Logging before flag parsing goes to stderr.\n",
            "W0709 03:57:39.485189 140540506912640 deprecation.py:506] From /usr/local/lib/python3.6/dist-packages/tensorflow/python/keras/initializers.py:119: calling RandomUniform.__init__ (from tensorflow.python.ops.init_ops) with dtype is deprecated and will be removed in a future version.\n",
            "Instructions for updating:\n",
            "Call initializer instance with the dtype argument instead of passing it to the constructor\n",
            "W0709 03:57:39.531183 140540506912640 deprecation.py:506] From /usr/local/lib/python3.6/dist-packages/tensorflow/python/ops/init_ops.py:1251: calling VarianceScaling.__init__ (from tensorflow.python.ops.init_ops) with dtype is deprecated and will be removed in a future version.\n",
            "Instructions for updating:\n",
            "Call initializer instance with the dtype argument instead of passing it to the constructor\n"
          ],
          "name": "stderr"
        },
        {
          "output_type": "stream",
          "text": [
            "Model: \"sequential\"\n",
            "_________________________________________________________________\n",
            "Layer (type)                 Output Shape              Param #   \n",
            "=================================================================\n",
            "embedding (Embedding)        (None, None, 16)          16000     \n",
            "_________________________________________________________________\n",
            "global_average_pooling1d (Gl (None, 16)                0         \n",
            "_________________________________________________________________\n",
            "dense (Dense)                (None, 16)                272       \n",
            "_________________________________________________________________\n",
            "dense_1 (Dense)              (None, 1)                 17        \n",
            "=================================================================\n",
            "Total params: 16,289\n",
            "Trainable params: 16,289\n",
            "Non-trainable params: 0\n",
            "_________________________________________________________________\n"
          ],
          "name": "stdout"
        }
      ]
    },
    {
      "cell_type": "code",
      "metadata": {
        "id": "GYZGp4C94TmL",
        "colab_type": "code",
        "outputId": "d6628907-db6c-430c-b67a-a8c254b476e8",
        "colab": {
          "base_uri": "https://localhost:8080/",
          "height": 92
        }
      },
      "source": [
        "model.compile(optimizer='adam',\n",
        "              loss='binary_crossentropy',\n",
        "              metrics=['acc'])"
      ],
      "execution_count": 0,
      "outputs": [
        {
          "output_type": "stream",
          "text": [
            "W0709 03:58:04.887394 140540506912640 deprecation.py:323] From /usr/local/lib/python3.6/dist-packages/tensorflow/python/ops/nn_impl.py:180: add_dispatch_support.<locals>.wrapper (from tensorflow.python.ops.array_ops) is deprecated and will be removed in a future version.\n",
            "Instructions for updating:\n",
            "Use tf.where in 2.0, which has the same broadcast rule as np.where\n"
          ],
          "name": "stderr"
        }
      ]
    },
    {
      "cell_type": "code",
      "metadata": {
        "id": "WprA3qWB4Zzq",
        "colab_type": "code",
        "outputId": "4ed3b656-3374-46e1-dbf2-3c297f4c3947",
        "colab": {
          "base_uri": "https://localhost:8080/",
          "height": 1000
        }
      },
      "source": [
        "history = model.fit(X_train,\n",
        "                    y_train,\n",
        "                    epochs=40,\n",
        "                    batch_size=512,\n",
        "                    validation_data=(X_test, y_test),\n",
        "                    verbose=1)"
      ],
      "execution_count": 0,
      "outputs": [
        {
          "output_type": "stream",
          "text": [
            "Train on 800 samples, validate on 200 samples\n",
            "Epoch 1/40\n",
            "800/800 [==============================] - 1s 819us/sample - loss: 0.6932 - acc: 0.4963 - val_loss: 0.6931 - val_acc: 0.5150\n",
            "Epoch 2/40\n",
            "800/800 [==============================] - 0s 237us/sample - loss: 0.6932 - acc: 0.4963 - val_loss: 0.6931 - val_acc: 0.5150\n",
            "Epoch 3/40\n",
            "800/800 [==============================] - 0s 236us/sample - loss: 0.6932 - acc: 0.4963 - val_loss: 0.6932 - val_acc: 0.4850\n",
            "Epoch 4/40\n",
            "800/800 [==============================] - 0s 241us/sample - loss: 0.6931 - acc: 0.5038 - val_loss: 0.6932 - val_acc: 0.4850\n",
            "Epoch 5/40\n",
            "800/800 [==============================] - 0s 233us/sample - loss: 0.6931 - acc: 0.5038 - val_loss: 0.6933 - val_acc: 0.4850\n",
            "Epoch 6/40\n",
            "800/800 [==============================] - 0s 244us/sample - loss: 0.6931 - acc: 0.5038 - val_loss: 0.6933 - val_acc: 0.4850\n",
            "Epoch 7/40\n",
            "800/800 [==============================] - 0s 241us/sample - loss: 0.6931 - acc: 0.5038 - val_loss: 0.6933 - val_acc: 0.4850\n",
            "Epoch 8/40\n",
            "800/800 [==============================] - 0s 241us/sample - loss: 0.6931 - acc: 0.5038 - val_loss: 0.6934 - val_acc: 0.4850\n",
            "Epoch 9/40\n",
            "800/800 [==============================] - 0s 251us/sample - loss: 0.6931 - acc: 0.5038 - val_loss: 0.6934 - val_acc: 0.4850\n",
            "Epoch 10/40\n",
            "800/800 [==============================] - 0s 254us/sample - loss: 0.6931 - acc: 0.5038 - val_loss: 0.6934 - val_acc: 0.4850\n",
            "Epoch 11/40\n",
            "800/800 [==============================] - 0s 240us/sample - loss: 0.6931 - acc: 0.5038 - val_loss: 0.6934 - val_acc: 0.4850\n",
            "Epoch 12/40\n",
            "800/800 [==============================] - 0s 247us/sample - loss: 0.6931 - acc: 0.5038 - val_loss: 0.6934 - val_acc: 0.4850\n",
            "Epoch 13/40\n",
            "800/800 [==============================] - 0s 244us/sample - loss: 0.6931 - acc: 0.5038 - val_loss: 0.6934 - val_acc: 0.4850\n",
            "Epoch 14/40\n",
            "800/800 [==============================] - 0s 259us/sample - loss: 0.6931 - acc: 0.5038 - val_loss: 0.6934 - val_acc: 0.4850\n",
            "Epoch 15/40\n",
            "800/800 [==============================] - 0s 253us/sample - loss: 0.6931 - acc: 0.5038 - val_loss: 0.6934 - val_acc: 0.4850\n",
            "Epoch 16/40\n",
            "800/800 [==============================] - 0s 257us/sample - loss: 0.6931 - acc: 0.5038 - val_loss: 0.6934 - val_acc: 0.4850\n",
            "Epoch 17/40\n",
            "800/800 [==============================] - 0s 245us/sample - loss: 0.6931 - acc: 0.5038 - val_loss: 0.6934 - val_acc: 0.4850\n",
            "Epoch 18/40\n",
            "800/800 [==============================] - 0s 251us/sample - loss: 0.6931 - acc: 0.5038 - val_loss: 0.6934 - val_acc: 0.4850\n",
            "Epoch 19/40\n",
            "800/800 [==============================] - 0s 249us/sample - loss: 0.6931 - acc: 0.5038 - val_loss: 0.6935 - val_acc: 0.4850\n",
            "Epoch 20/40\n",
            "800/800 [==============================] - 0s 241us/sample - loss: 0.6931 - acc: 0.5038 - val_loss: 0.6935 - val_acc: 0.4850\n",
            "Epoch 21/40\n",
            "800/800 [==============================] - 0s 249us/sample - loss: 0.6931 - acc: 0.5038 - val_loss: 0.6935 - val_acc: 0.4850\n",
            "Epoch 22/40\n",
            "800/800 [==============================] - 0s 246us/sample - loss: 0.6931 - acc: 0.5038 - val_loss: 0.6935 - val_acc: 0.4850\n",
            "Epoch 23/40\n",
            "800/800 [==============================] - 0s 246us/sample - loss: 0.6931 - acc: 0.5038 - val_loss: 0.6935 - val_acc: 0.4850\n",
            "Epoch 24/40\n",
            "800/800 [==============================] - 0s 259us/sample - loss: 0.6931 - acc: 0.5038 - val_loss: 0.6935 - val_acc: 0.4850\n",
            "Epoch 25/40\n",
            "800/800 [==============================] - 0s 247us/sample - loss: 0.6931 - acc: 0.5038 - val_loss: 0.6935 - val_acc: 0.4850\n",
            "Epoch 26/40\n",
            "800/800 [==============================] - 0s 247us/sample - loss: 0.6931 - acc: 0.5038 - val_loss: 0.6935 - val_acc: 0.4850\n",
            "Epoch 27/40\n",
            "800/800 [==============================] - 0s 250us/sample - loss: 0.6931 - acc: 0.5038 - val_loss: 0.6935 - val_acc: 0.4850\n",
            "Epoch 28/40\n",
            "800/800 [==============================] - 0s 244us/sample - loss: 0.6931 - acc: 0.5038 - val_loss: 0.6934 - val_acc: 0.4850\n",
            "Epoch 29/40\n",
            "800/800 [==============================] - 0s 250us/sample - loss: 0.6931 - acc: 0.5038 - val_loss: 0.6934 - val_acc: 0.4850\n",
            "Epoch 30/40\n",
            "800/800 [==============================] - 0s 257us/sample - loss: 0.6931 - acc: 0.5038 - val_loss: 0.6934 - val_acc: 0.4850\n",
            "Epoch 31/40\n",
            "800/800 [==============================] - 0s 250us/sample - loss: 0.6931 - acc: 0.5038 - val_loss: 0.6934 - val_acc: 0.4850\n",
            "Epoch 32/40\n",
            "800/800 [==============================] - 0s 258us/sample - loss: 0.6931 - acc: 0.5038 - val_loss: 0.6934 - val_acc: 0.4850\n",
            "Epoch 33/40\n",
            "800/800 [==============================] - 0s 244us/sample - loss: 0.6931 - acc: 0.5038 - val_loss: 0.6933 - val_acc: 0.4850\n",
            "Epoch 34/40\n",
            "800/800 [==============================] - 0s 264us/sample - loss: 0.6931 - acc: 0.5038 - val_loss: 0.6933 - val_acc: 0.4850\n",
            "Epoch 35/40\n",
            "800/800 [==============================] - 0s 261us/sample - loss: 0.6931 - acc: 0.5038 - val_loss: 0.6934 - val_acc: 0.4850\n",
            "Epoch 36/40\n",
            "800/800 [==============================] - 0s 246us/sample - loss: 0.6931 - acc: 0.5038 - val_loss: 0.6934 - val_acc: 0.4850\n",
            "Epoch 37/40\n",
            "800/800 [==============================] - 0s 253us/sample - loss: 0.6931 - acc: 0.5038 - val_loss: 0.6934 - val_acc: 0.4850\n",
            "Epoch 38/40\n",
            "800/800 [==============================] - 0s 251us/sample - loss: 0.6931 - acc: 0.5038 - val_loss: 0.6934 - val_acc: 0.4850\n",
            "Epoch 39/40\n",
            "800/800 [==============================] - 0s 248us/sample - loss: 0.6931 - acc: 0.5038 - val_loss: 0.6934 - val_acc: 0.4850\n",
            "Epoch 40/40\n",
            "800/800 [==============================] - 0s 258us/sample - loss: 0.6931 - acc: 0.5038 - val_loss: 0.6934 - val_acc: 0.4850\n"
          ],
          "name": "stdout"
        }
      ]
    },
    {
      "cell_type": "code",
      "metadata": {
        "id": "JYqzgDYW4e5M",
        "colab_type": "code",
        "outputId": "ed2ae43b-fce5-4997-e39c-936206c328b4",
        "colab": {
          "base_uri": "https://localhost:8080/",
          "height": 54
        }
      },
      "source": [
        "results = model.evaluate(X_test,y_test)\n",
        "\n",
        "print(results)"
      ],
      "execution_count": 0,
      "outputs": [
        {
          "output_type": "stream",
          "text": [
            "200/200 [==============================] - 0s 102us/sample - loss: 0.6934 - acc: 0.4850\n",
            "[0.6933714747428894, 0.485]\n"
          ],
          "name": "stdout"
        }
      ]
    },
    {
      "cell_type": "code",
      "metadata": {
        "id": "uMJ0guz-5C1u",
        "colab_type": "code",
        "colab": {}
      },
      "source": [
        ""
      ],
      "execution_count": 0,
      "outputs": []
    },
    {
      "cell_type": "code",
      "metadata": {
        "id": "C7-1qe6N6Iaf",
        "colab_type": "code",
        "colab": {}
      },
      "source": [
        ""
      ],
      "execution_count": 0,
      "outputs": []
    }
  ]
}