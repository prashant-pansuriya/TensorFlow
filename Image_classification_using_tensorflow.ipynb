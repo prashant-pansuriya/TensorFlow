{
  "nbformat": 4,
  "nbformat_minor": 0,
  "metadata": {
    "colab": {
      "name": "Image classification using tensorflow.ipynb",
      "version": "0.3.2",
      "provenance": []
    },
    "kernelspec": {
      "name": "python3",
      "display_name": "Python 3"
    },
    "accelerator": "GPU"
  },
  "cells": [
    {
      "cell_type": "code",
      "metadata": {
        "id": "3Chait-0sKkg",
        "colab_type": "code",
        "colab": {}
      },
      "source": [
        "import tensorflow as tf\n",
        "import matplotlib.pyplot as plt\n",
        "%matplotlib inline\n",
        "from tqdm import tqdm\n",
        "import numpy as np\n",
        "import os \n",
        "from random import shuffle\n",
        "import cv2\n",
        "import glob"
      ],
      "execution_count": 0,
      "outputs": []
    },
    {
      "cell_type": "code",
      "metadata": {
        "id": "zeegMNVawPiS",
        "colab_type": "code",
        "colab": {}
      },
      "source": [
        "!unzip -qq ml.zip"
      ],
      "execution_count": 0,
      "outputs": []
    },
    {
      "cell_type": "code",
      "metadata": {
        "id": "4l6Xy2EdsWU1",
        "colab_type": "code",
        "colab": {}
      },
      "source": [
        "TEST_DIR = '/ml/test'\n",
        "TRAIN_DIR = '/ml/train'\n",
        "LEARNING_RATE = 1e-3\n",
        "MODEL_NAME = \"dogsvscats-{}-{}.model\".format(LEARNING_RATE,\"6conv-fire\")\n",
        "IMAGE_SIZE = 50"
      ],
      "execution_count": 0,
      "outputs": []
    },
    {
      "cell_type": "code",
      "metadata": {
        "id": "OWSj_BvisoOs",
        "colab_type": "code",
        "colab": {}
      },
      "source": [
        "def label_image(img):\n",
        "    img_name =img.split('/')[-1].split('.')[0]\n",
        "    print('image name ',img_name)\n",
        "    \n",
        "    if img_name == \"cat\":\n",
        "\n",
        "      return [1,0]\n",
        "\n",
        "    elif img_name == \"dog\":\n",
        "\n",
        "      return [0,1]"
      ],
      "execution_count": 0,
      "outputs": []
    },
    {
      "cell_type": "code",
      "metadata": {
        "id": "-O8rgogSsytA",
        "colab_type": "code",
        "colab": {}
      },
      "source": [
        "def train_data_loder():\n",
        "    training_data = []\n",
        "    \n",
        "    for img in glob.glob('ml/train/*.*'):\n",
        "            \n",
        "            img_lable = label_image(img)\n",
        "            print('label name ',img_lable)\n",
        "            \n",
        "            img = cv2.resize(cv2.imread(img,cv2.IMREAD_GRAYSCALE),(IMAGE_SIZE,IMAGE_SIZE))\n",
        "            training_data.append([np.array(img),np.array(img_lable)])\n",
        "\n",
        "    shuffle(training_data)\n",
        "    \n",
        "    np.save(\"training_data_new.npy\",training_data)\n",
        "    \n",
        "    return training_data\n",
        "#This is for Testing Data\n",
        "def testing_data():\n",
        "    test_data = []\n",
        "    \n",
        "    for img in glob.glob('ml/test/*.*'):\n",
        "            img_labels =label_image(img)\n",
        "            \n",
        "            img = cv2.resize(cv2.imread(img,cv2.IMREAD_GRAYSCALE),(IMAGE_SIZE,IMAGE_SIZE))\n",
        "            test_data.append([np.array(img),np.array(img_labels)])\n",
        "\n",
        "    shuffle(test_data)\n",
        "    np.save(\"test_dataone.npy\",test_data)\n",
        "\n",
        "    return test_data\n"
      ],
      "execution_count": 0,
      "outputs": []
    },
    {
      "cell_type": "code",
      "metadata": {
        "id": "j5VibRZg1pPX",
        "colab_type": "code",
        "outputId": "9bb5be67-5836-4e5d-8b3f-d3f96e78c6dd",
        "colab": {
          "base_uri": "https://localhost:8080/",
          "height": 1000
        }
      },
      "source": [
        "\n",
        "  "
      ],
      "execution_count": 0,
      "outputs": [
        {
          "output_type": "stream",
         ,
          "name": "stdout"
        }
      ]
    },
    {
      "cell_type": "code",
      "metadata": {
        "id": "XyEt7OqP18wZ",
        "colab_type": "code",
        "outputId": "058478f8-9094-4d60-8c09-30760a096382",
        "colab": {
          "base_uri": "https://localhost:8080/",
          "height": 181
        }
      },
      "source": [
        ""
      ],
      "execution_count": 0,
      "outputs": [
        {
          "output_type": "stream",
          "text": [
            
          ],
          "name": "stdout"
        }
      ]
    },
    {
      "cell_type": "code",
      "metadata": {
        "id": "SrOcB-3gtEd_",
        "colab_type": "code",
        "colab": {}
      },
      "source": [
        "import tflearn\n",
        "from tflearn.layers.conv import conv_2d,max_pool_2d\n",
        "from tflearn.layers.core import input_data,dropout,fully_connected\n",
        "from tflearn.layers.estimator import regression"
      ],
      "execution_count": 0,
      "outputs": []
    },
    {
      "cell_type": "code",
      "metadata": {
        "id": "apmFA1e9tSNW",
        "colab_type": "code",
        "colab": {}
      },
      "source": [
        "import tensorflow as tf\n",
        "tf.reset_default_graph()\n",
        "\n",
        "convnet = input_data(shape=[\n",
        "None, IMAGE_SIZE, IMAGE_SIZE, 1], name='input')\n",
        "\n",
        "convnet = conv_2d(convnet, 32, 5, activation='relu')\n",
        "convnet = max_pool_2d(convnet, 5)\n",
        "\n",
        "convnet = conv_2d(convnet, 64, 5, activation='relu')\n",
        "convnet = max_pool_2d(convnet, 5)\n",
        "\n",
        "convnet = conv_2d(convnet, 128, 5, activation='relu')\n",
        "convnet = max_pool_2d(convnet, 5)\n",
        "\n",
        "convnet = conv_2d(convnet, 64, 5, activation='relu')\n",
        "convnet = max_pool_2d(convnet, 5)\n",
        "\n",
        "convnet = conv_2d(convnet, 32, 5, activation='relu')\n",
        "convnet = max_pool_2d(convnet, 5)\n",
        "\n",
        "convnet = fully_connected(convnet, 1024, activation='relu')\n",
        "convnet = dropout(convnet, 0.8)\n",
        "\n",
        "convnet = fully_connected(convnet, 2, activation='softmax')\n",
        "\n",
        "convnet = regression(convnet, optimizer='adam', learning_rate=LEARNING_RATE, loss='categorical_crossentropy', name='targets')\n",
        "\n",
        "model = tflearn.DNN(convnet, tensorboard_dir='log')\n"
      ],
      "execution_count": 0,
      "outputs": []
    },
    {
      "cell_type": "code",
      "metadata": {
        "id": "JhP6A7nZtafO",
        "colab_type": "code",
        "outputId": "6db6bcb0-f119-4fb6-9753-670672fa55c2",
        "colab": {
          "base_uri": "https://localhost:8080/",
          "height": 1000
        }
      },
      "source": [
        "train_data_loder()"
      ],
      "execution_count": 0,
      "outputs": [
        {
          "output_type": "stream",
          
          "name": "stdout"
        },
        {
          "output_type": "execute_result",
          "data": {
           
          },
          "metadata": {
            "tags": []
          },
          "execution_count": 22
        }
      ]
    },
    {
      "cell_type": "code",
      "metadata": {
        "id": "6EFh9ZfyvctJ",
        "colab_type": "code",
        "outputId": "dca24885-779a-44a0-beb9-e57b6e81f95a",
        "colab": {
          "base_uri": "https://localhost:8080/",
          "height": 1000
        }
      },
      "source": [
        "train_data=train_data_loder()"
      ],
      "execution_count": 0,
      "outputs": [
        {
          "output_type": "stream",
          "text": [
            "image name  cat\n",
            "label name  [1, 0]\n",
            "image name  dog\n",
            "label name  [0, 1]\n",
            "image name  dog\n",
            "label name  [0, 1]\n",
            "image name  cat\n",
            "label name  [1, 0]\n",
            "image name  dog\n",
            "label name  [0, 1]\n",
            "image name  dog\n",
            "label name  [0, 1]\n",
            "image name  dog\n",
            "label name  [0, 1]\n",
            "image name  dog\n",
            "label name  [0, 1]\n",
            "image name  dog\n",
            "label name  [0, 1]\n",
            "image name  dog\n",
            "label name  [0, 1]\n",
            "image name  cat\n",
            "label name  [1, 0]\n",
            "image name  cat\n",
            "label name  [1, 0]\n",
            "image name  cat\n",
            "label name  [1, 0]\n",
            "image name  dog\n",
            "label name  [0, 1]\n",
            "image name  cat\n",
            "label name  [1, 0]\n",
            "image name  cat\n",
            "label name  [1, 0]\n",
            "image name  dog\n",
            "label name  [0, 1]\n",
            "image name  cat\n",
            "label name  [1, 0]\n",
            "image name  cat\n",
            "label name  [1, 0]\n",
            "image name  cat\n",
            "label name  [1, 0]\n",
            "image name  dog\n",
            "label name  [0, 1]\n",
            "image name  cat\n",
            "label name  [1, 0]\n",
            "image name  dog\n",
            "label name  [0, 1]\n",
            "image name  dog\n",
            "label name  [0, 1]\n",
            "image name  cat\n",
            "label name  [1, 0]\n",
            "image name  dog\n",
            "label name  [0, 1]\n",
            "image name  dog\n",
            "label name  [0, 1]\n",
            "image name  dog\n",
            "label name  [0, 1]\n",
            "image name  dog\n",
            "label name  [0, 1]\n",
            "image name  cat\n",
            "label name  [1, 0]\n",
            "image name  cat\n",
            "label name  [1, 0]\n",
            "image name  dog\n",
            "label name  [0, 1]\n",
            "image name  dog\n",
            "label name  [0, 1]\n",
            "image name  cat\n",
            "label name  [1, 0]\n",
            "image name  cat\n",
            "label name  [1, 0]\n",
            "image name  dog\n",
            "label name  [0, 1]\n",
            "image name  cat\n",
            "label name  [1, 0]\n",
            "image name  dog\n",
            "label name  [0, 1]\n",
            "image name  cat\n",
            "label name  [1, 0]\n",
            "image name  dog\n",
            "label name  [0, 1]\n",
            "image name  dog\n",
            "label name  [0, 1]\n",
            "image name  dog\n",
            "label name  [0, 1]\n",
            "image name  dog\n",
            "label name  [0, 1]\n",
            "image name  cat\n",
            "label name  [1, 0]\n",
            "image name  cat\n",
            "label name  [1, 0]\n",
            "image name  dog\n",
            "label name  [0, 1]\n",
            "image name  cat\n",
            "label name  [1, 0]\n",
            "image name  dog\n",
            "label name  [0, 1]\n",
            "image name  cat\n",
            "label name  [1, 0]\n",
            "image name  dog\n",
            "label name  [0, 1]\n",
            "image name  cat\n",
            "label name  [1, 0]\n",
            "image name  cat\n",
            "label name  [1, 0]\n",
            "image name  dog\n",
            "label name  [0, 1]\n",
            "image name  cat\n",
            "label name  [1, 0]\n",
            "image name  cat\n",
            "label name  [1, 0]\n",
            "image name  dog\n",
            "label name  [0, 1]\n",
            "image name  cat\n",
            "label name  [1, 0]\n",
            "image name  dog\n",
            "label name  [0, 1]\n",
            "image name  cat\n",
            "label name  [1, 0]\n",
            "image name  cat\n",
            "label name  [1, 0]\n",
            "image name  dog\n",
            "label name  [0, 1]\n",
            "image name  dog\n",
            "label name  [0, 1]\n",
            "image name  dog\n",
            "label name  [0, 1]\n",
            "image name  dog\n",
            "label name  [0, 1]\n",
            "image name  cat\n",
            "label name  [1, 0]\n",
            "image name  dog\n",
            "label name  [0, 1]\n",
            "image name  cat\n",
            "label name  [1, 0]\n",
            "image name  cat\n",
            "label name  [1, 0]\n",
            "image name  dog\n",
            "label name  [0, 1]\n",
            "image name  dog\n",
            "label name  [0, 1]\n",
            "image name  cat\n",
            "label name  [1, 0]\n",
            "image name  cat\n",
            "label name  [1, 0]\n",
            "image name  cat\n",
            "label name  [1, 0]\n",
            "image name  dog\n",
            "label name  [0, 1]\n",
            "image name  dog\n",
            "label name  [0, 1]\n",
            "image name  cat\n",
            "label name  [1, 0]\n",
            "image name  cat\n",
            "label name  [1, 0]\n",
            "image name  dog\n",
            "label name  [0, 1]\n",
            "image name  dog\n",
            "label name  [0, 1]\n",
            "image name  dog\n",
            "label name  [0, 1]\n",
            "image name  dog\n",
            "label name  [0, 1]\n",
            "image name  cat\n",
            "label name  [1, 0]\n",
            "image name  dog\n",
            "label name  [0, 1]\n",
            "image name  dog\n",
            "label name  [0, 1]\n",
            "image name  cat\n",
            "label name  [1, 0]\n",
            "image name  cat\n",
            "label name  [1, 0]\n",
            "image name  cat\n",
            "label name  [1, 0]\n",
            "image name  cat\n",
            "label name  [1, 0]\n",
            "image name  cat\n",
            "label name  [1, 0]\n",
            "image name  dog\n",
            "label name  [0, 1]\n",
            "image name  dog\n",
            "label name  [0, 1]\n",
            "image name  dog\n",
            "label name  [0, 1]\n",
            "image name  dog\n",
            "label name  [0, 1]\n",
            "image name  cat\n",
            "label name  [1, 0]\n",
            "image name  dog\n",
            "label name  [0, 1]\n",
            "image name  dog\n",
            "label name  [0, 1]\n",
            "image name  cat\n",
            "label name  [1, 0]\n",
            "image name  dog\n",
            "label name  [0, 1]\n",
            "image name  dog\n",
            "label name  [0, 1]\n",
            "image name  cat\n",
            "label name  [1, 0]\n",
            "image name  dog\n",
            "label name  [0, 1]\n",
            "image name  cat\n",
            "label name  [1, 0]\n",
            "image name  dog\n",
            "label name  [0, 1]\n",
            "image name  dog\n",
            "label name  [0, 1]\n",
            "image name  cat\n",
            "label name  [1, 0]\n",
            "image name  dog\n",
            "label name  [0, 1]\n",
            "image name  cat\n",
            "label name  [1, 0]\n",
            "image name  cat\n",
            "label name  [1, 0]\n",
            "image name  cat\n",
            "label name  [1, 0]\n",
            "image name  cat\n",
            "label name  [1, 0]\n",
            "image name  cat\n",
            "label name  [1, 0]\n",
            "image name  dog\n",
            "label name  [0, 1]\n",
            "image name  cat\n",
            "label name  [1, 0]\n",
            "image name  cat\n",
            "label name  [1, 0]\n",
            "image name  dog\n",
            "label name  [0, 1]\n",
            "image name  dog\n",
            "label name  [0, 1]\n",
            "image name  cat\n",
            "label name  [1, 0]\n",
            "image name  dog\n",
            "label name  [0, 1]\n",
            "image name  cat\n",
            "label name  [1, 0]\n",
            "image name  cat\n",
            "label name  [1, 0]\n",
            "image name  cat\n",
            "label name  [1, 0]\n",
            "image name  dog\n",
            "label name  [0, 1]\n",
            "image name  cat\n",
            "label name  [1, 0]\n",
            "image name  cat\n",
            "label name  [1, 0]\n",
            "image name  dog\n",
            "label name  [0, 1]\n",
            "image name  dog\n",
            "label name  [0, 1]\n",
            "image name  dog\n",
            "label name  [0, 1]\n",
            "image name  dog\n",
            "label name  [0, 1]\n",
            "image name  cat\n",
            "label name  [1, 0]\n",
            "image name  cat\n",
            "label name  [1, 0]\n",
            "image name  cat\n",
            "label name  [1, 0]\n",
            "image name  cat\n",
            "label name  [1, 0]\n",
            "image name  dog\n",
            "label name  [0, 1]\n",
            "image name  cat\n",
            "label name  [1, 0]\n",
            "image name  cat\n",
            "label name  [1, 0]\n",
            "image name  cat\n",
            "label name  [1, 0]\n",
            "image name  dog\n",
            "label name  [0, 1]\n",
            "image name  cat\n",
            "label name  [1, 0]\n",
            "image name  dog\n",
            "label name  [0, 1]\n",
            "image name  dog\n",
            "label name  [0, 1]\n",
            "image name  cat\n",
            "label name  [1, 0]\n",
            "image name  cat\n",
            "label name  [1, 0]\n",
            "image name  cat\n",
            "label name  [1, 0]\n",
            "image name  dog\n",
            "label name  [0, 1]\n",
            "image name  cat\n",
            "label name  [1, 0]\n",
            "image name  cat\n",
            "label name  [1, 0]\n",
            "image name  cat\n",
            "label name  [1, 0]\n",
            "image name  cat\n",
            "label name  [1, 0]\n",
            "image name  cat\n",
            "label name  [1, 0]\n",
            "image name  dog\n",
            "label name  [0, 1]\n",
            "image name  dog\n",
            "label name  [0, 1]\n",
            "image name  cat\n",
            "label name  [1, 0]\n",
            "image name  dog\n",
            "label name  [0, 1]\n",
            "image name  cat\n",
            "label name  [1, 0]\n",
            "image name  cat\n",
            "label name  [1, 0]\n",
            "image name  cat\n",
            "label name  [1, 0]\n",
            "image name  dog\n",
            "label name  [0, 1]\n",
            "image name  dog\n",
            "label name  [0, 1]\n",
            "image name  cat\n",
            "label name  [1, 0]\n",
            "image name  cat\n",
            "label name  [1, 0]\n",
            "image name  cat\n",
            "label name  [1, 0]\n",
            "image name  dog\n",
            "label name  [0, 1]\n",
            "image name  dog\n",
            "label name  [0, 1]\n",
            "image name  dog\n",
            "label name  [0, 1]\n",
            "image name  cat\n",
            "label name  [1, 0]\n",
            "image name  cat\n",
            "label name  [1, 0]\n",
            "image name  dog\n",
            "label name  [0, 1]\n",
            "image name  cat\n",
            "label name  [1, 0]\n",
            "image name  dog\n",
            "label name  [0, 1]\n",
            "image name  dog\n",
            "label name  [0, 1]\n",
            "image name  cat\n",
            "label name  [1, 0]\n",
            "image name  dog\n",
            "label name  [0, 1]\n",
            "image name  dog\n",
            "label name  [0, 1]\n",
            "image name  dog\n",
            "label name  [0, 1]\n",
            "image name  dog\n",
            "label name  [0, 1]\n",
            "image name  dog\n",
            "label name  [0, 1]\n",
            "image name  cat\n",
            "label name  [1, 0]\n",
            "image name  dog\n",
            "label name  [0, 1]\n",
            "image name  cat\n",
            "label name  [1, 0]\n",
            "image name  cat\n",
            "label name  [1, 0]\n",
            "image name  cat\n",
            "label name  [1, 0]\n",
            "image name  dog\n",
            "label name  [0, 1]\n",
            "image name  dog\n",
            "label name  [0, 1]\n",
            "image name  cat\n",
            "label name  [1, 0]\n",
            "image name  dog\n",
            "label name  [0, 1]\n",
            "image name  cat\n",
            "label name  [1, 0]\n",
            "image name  dog\n",
            "label name  [0, 1]\n",
            "image name  dog\n",
            "label name  [0, 1]\n",
            "image name  cat\n",
            "label name  [1, 0]\n",
            "image name  cat\n",
            "label name  [1, 0]\n",
            "image name  cat\n",
            "label name  [1, 0]\n",
            "image name  dog\n",
            "label name  [0, 1]\n",
            "image name  cat\n",
            "label name  [1, 0]\n",
            "image name  cat\n",
            "label name  [1, 0]\n",
            "image name  cat\n",
            "label name  [1, 0]\n",
            "image name  dog\n",
            "label name  [0, 1]\n",
            "image name  dog\n",
            "label name  [0, 1]\n",
            "image name  dog\n",
            "label name  [0, 1]\n",
            "image name  dog\n",
            "label name  [0, 1]\n",
            "image name  dog\n",
            "label name  [0, 1]\n"
          ],
          "name": "stdout"
        }
      ]
    },
    {
      "cell_type": "code",
      "metadata": {
        "id": "lC35etaxxwyQ",
        "colab_type": "code",
        "colab": {}
      },
      "source": [
        "\n",
        "train = train_data[:]\n"
      ],
      "execution_count": 0,
      "outputs": []
    },
    {
      "cell_type": "code",
      "metadata": {
        "id": "a1pqW6FbyZUo",
        "colab_type": "code",
        "outputId": "1be58e3a-bcc0-4bcb-dfa0-b0e7c593e2d8",
        "colab": {
          "base_uri": "https://localhost:8080/",
          "height": 745
        }
      },
      "source": [
        "test=testing_data()"
      ],
      "execution_count": 0,
      "outputs": [
        {
          "output_type": "stream",
          "text": [
            "image name  dog\n",
            "image name  cat\n",
            "image name  dog\n",
            "image name  dog\n",
            "image name  dog\n",
            "image name  dog\n",
            "image name  dog\n",
            "image name  cat\n",
            "image name  cat\n",
            "image name  cat\n",
            "image name  dog\n",
            "image name  dog\n",
            "image name  dog\n",
            "image name  cat\n",
            "image name  cat\n",
            "image name  cat\n",
            "image name  cat\n",
            "image name  dog\n",
            "image name  cat\n",
            "image name  cat\n",
            "image name  cat\n",
            "image name  dog\n",
            "image name  cat\n",
            "image name  cat\n",
            "image name  cat\n",
            "image name  cat\n",
            "image name  dog\n",
            "image name  dog\n",
            "image name  cat\n",
            "image name  dog\n",
            "image name  dog\n",
            "image name  dog\n",
            "image name  dog\n",
            "image name  dog\n",
            "image name  dog\n",
            "image name  dog\n",
            "image name  cat\n",
            "image name  cat\n",
            "image name  cat\n",
            "image name  cat\n"
          ],
          "name": "stdout"
        }
      ]
    },
    {
      "cell_type": "code",
      "metadata": {
        "id": "9VaCOfjyykiK",
        "colab_type": "code",
        "colab": {}
      },
      "source": [
        ""
      ],
      "execution_count": 0,
      "outputs": []
    },
    {
      "cell_type": "code",
      "metadata": {
        "id": "5bxqZosgyqDy",
        "colab_type": "code",
        "colab": {}
      },
      "source": [
        "X = np.array([i[0] for i in train]).reshape(-1,IMAGE_SIZE,IMAGE_SIZE,1)\n",
        "Y = [i[1] for i in train]"
      ],
      "execution_count": 0,
      "outputs": []
    },
    {
      "cell_type": "code",
      "metadata": {
        "id": "2LK9ZrLty9Da",
        "colab_type": "code",
        "colab": {}
      },
      "source": [
        "test_x = np.array([i[0] for i in test]).reshape(-1,IMAGE_SIZE,IMAGE_SIZE,1)\n",
        "test_y = [i[1] for i in test]\n"
      ],
      "execution_count": 0,
      "outputs": []
    },
    {
      "cell_type": "code",
      "metadata": {
        "id": "zKmEWf7szDxP",
        "colab_type": "code",
        "outputId": "a5d1134f-bfa8-4656-c4fe-a1f9b5cee6da",
        "colab": {
          "base_uri": "https://localhost:8080/",
          "height": 128
        }
      },
      "source": [
        "model.fit(X, Y, n_epoch=6, validation_set=(test_x,  test_y), \n",
        "    snapshot_step=500, show_metric=True, run_id=MODEL_NAME)"
      ],
      "execution_count": 0,
      "outputs": [
        {
          "output_type": "stream",
          "text": [
            "Training Step: 27  | total loss: \u001b[1m\u001b[32m0.69495\u001b[0m\u001b[0m | time: 0.058s\n",
            "| Adam | epoch: 007 | loss: 0.69495 - acc: 0.4772 -- iter: 192/200\n",
            "Training Step: 28  | total loss: \u001b[1m\u001b[32m0.69290\u001b[0m\u001b[0m | time: 1.075s\n",
            "| Adam | epoch: 007 | loss: 0.69290 - acc: 0.4986 | val_loss: 0.69260 - val_acc: 0.5000 -- iter: 200/200\n",
            "--\n"
          ],
          "name": "stdout"
        }
      ]
    },
    {
      "cell_type": "code",
      "metadata": {
        "id": "FDi2x1BwzLSm",
        "colab_type": "code",
        "colab": {}
      },
      "source": [
        "model.save(MODEL_NAME)"
      ],
      "execution_count": 0,
      "outputs": []
    },
    {
      "cell_type": "code",
      "metadata": {
        "id": "lfiYRyk80CMC",
        "colab_type": "code",
        "colab": {}
      },
      "source": [
        "test_data = np.load(\"test_dataone.npy\",allow_pickle=True)"
      ],
      "execution_count": 0,
      "outputs": []
    },
    {
      "cell_type": "code",
      "metadata": {
        "id": "fmuZGjAK0ldO",
        "colab_type": "code",
        "outputId": "d0bceb73-bafa-4828-c683-41ef87bec61f",
        "colab": {
          "base_uri": "https://localhost:8080/",
          "height": 308
        }
      },
      "source": [
        ""
      ],
      "execution_count": 0,
      "outputs": [
        {
          "output_type": "stream",
          "text": [
            "[array([[126, 110, 103, ...,  21,  17,  19],\n",
            "       [128, 106, 142, ...,  18,  19,  21],\n",
            "       [133,  70, 140, ...,  19,  18,  20],\n",
            "       ...,\n",
            "       [ 78,  68,  96, ...,  72,  67,  73],\n",
            "       [ 53,  32,  55, ...,  93,  77,  93],\n",
            "       [ 42,  56,  83, ..., 108,  77,  82]], dtype=uint8), array(None, dtype=object)]\n",
            "2\n",
            "[[126 110 103 ...  21  17  19]\n",
            " [128 106 142 ...  18  19  21]\n",
            " [133  70 140 ...  19  18  20]\n",
            " ...\n",
            " [ 78  68  96 ...  72  67  73]\n",
            " [ 53  32  55 ...  93  77  93]\n",
            " [ 42  56  83 ... 108  77  82]]\n",
            "None\n"
          ],
          "name": "stdout"
        }
      ]
    },
    {
      "cell_type": "code",
      "metadata": {
        "id": "ri0YjfqC0t6F",
        "colab_type": "code",
        "outputId": "4936099d-409b-40e0-c21c-73240df3620f",
        "colab": {
          "base_uri": "https://localhost:8080/",
          "height": 1000
        }
      },
      "source": [
        "import matplotlib.pyplot as plt\n",
        "\n",
        "figs = plt.figure()\n",
        "for num,data in enumerate(test_data[:12]):\n",
        "    test_img = data[0]\n",
        "    print('image name',test_img)\n",
        "    test_lable = data[1]\n",
        "    test_img_feed = test_img.reshape(IMAGE_SIZE,IMAGE_SIZE,1)\n",
        "    t = figs.add_subplot(3,4,num+1)\n",
        "    ores = test_img\n",
        "    \n",
        "    model_pred = model.predict([test_img_feed])[0]\n",
        "    print('model prediction ',model_pred)\n",
        "    xs=np.array(['cat','dog'])\n",
        "    ys=np.array(model_pred)\n",
        "    plt.bar(xs,ys,color=['r','b'])\n",
        "    for x,y in zip(xs,ys):\n",
        "\n",
        "        label = \"{:.2f}\".format(y)\n",
        "\n",
        "        plt.annotate(label, # this is the text\n",
        "                     (x,y), # this is the point to label\n",
        "                     textcoords=\"offset points\", # how to position the text\n",
        "                     xytext=(0,-15), # distance from text to points (x,y)\n",
        "                     ha='center',color='green',size=15) # horizontal alignment can be left, right or center\n",
        "    \n",
        "    \n",
        "    if np.argmax(model_pred) == 1:\n",
        "        pred_val = \"Dog\"\n",
        "        plt.title('Dog')\n",
        "    else:\n",
        "        pred_val = \"Cat\"\n",
        "        plt.title('Cat')\n",
        "    plt.show()    \n",
        "        \n",
        "    \n"
      ],
      "execution_count": 0,
      "outputs": [
        {
          "output_type": "stream",
          "text": [
            "image name [[178 178 178 ... 119 156 138]\n",
            " [178 178 178 ... 107 165 147]\n",
            " [178 178 179 ...  63 107 115]\n",
            " ...\n",
            " [124 143 130 ... 114 111 111]\n",
            " [136 150 146 ... 111 111 112]\n",
            " [145 168 137 ... 111 111 111]]\n",
            "model prediction  [0.4855919 0.5144081]\n"
          ],
          "name": "stdout"
        },
        {
          "output_type": "display_data",
          "data": {
            "image/png": "iVBORw0KGgoAAAANSUhEUgAAAHEAAABvCAYAAADboi87AAAABHNCSVQICAgIfAhkiAAAAAlwSFlz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\nAAAASUVORK5CYII=\n",
            "text/plain": [
              "<Figure size 432x288 with 1 Axes>"
            ]
          },
          "metadata": {
            "tags": []
          }
        },
        {
          "output_type": "stream",
          "text": [
            "image name [[213 216 215 ... 215 210 212]\n",
            " [213 216 214 ... 220 212 209]\n",
            " [212 215 216 ... 215 213 211]\n",
            " ...\n",
            " [204 185 217 ... 223 219 221]\n",
            " [204 216 207 ... 238 200 211]\n",
            " [181 235 203 ... 245 226 215]]\n",
            "model prediction  [0.48441586 0.5155842 ]\n"
          ],
          "name": "stdout"
        },
        {
          "output_type": "display_data",
          "data": {
            "image/png": "iVBORw0KGgoAAAANSUhEUgAAAXcAAAEICAYAAACktLTqAAAABHNCSVQICAgIfAhkiAAAAAlwSFlz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\ng/4/FlHEs/+WbKoAAAAASUVORK5CYII=\n",
            "text/plain": [
              "<Figure size 432x288 with 1 Axes>"
            ]
          },
          "metadata": {
            "tags": []
          }
        },
        {
          "output_type": "stream",
          "text": [
            "image name [[129 103 112 ...  38  97  68]\n",
            " [173 187  75 ...  58 115  60]\n",
            " [151 166 112 ... 118  80 101]\n",
            " ...\n",
            " [188 190  89 ... 132  99  75]\n",
            " [155 176  94 ...  73  73  95]\n",
            " [120  96 181 ...  66 125  77]]\n",
            "model prediction  [0.48215416 0.5178458 ]\n"
          ],
          "name": "stdout"
        },
        {
          "output_type": "display_data",
          "data": {
            "image/png": "iVBORw0KGgoAAAANSUhEUgAAAXcAAAEICAYAAACktLTqAAAABHNCSVQICAgIfAhkiAAAAAlwSFlz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\nAAAAAElFTkSuQmCC\n",
            "text/plain": [
              "<Figure size 432x288 with 1 Axes>"
            ]
          },
          "metadata": {
            "tags": []
          }
        },
        {
          "output_type": "stream",
          "text": [
            "image name [[134 114 171 ... 212 212 212]\n",
            " [147 170 154 ... 212 212 212]\n",
            " [167 140 151 ... 209 209 209]\n",
            " ...\n",
            " [ 37  39  38 ... 152 151 148]\n",
            " [ 35  32  28 ... 154 149 144]\n",
            " [ 24  26  28 ... 157 149 144]]\n",
            "model prediction  [0.4861552 0.5138447]\n"
          ],
          "name": "stdout"
        },
        {
          "output_type": "display_data",
          "data": {
            "image/png": "iVBORw0KGgoAAAANSUhEUgAAAXcAAAEICAYAAACktLTqAAAABHNCSVQICAgIfAhkiAAAAAlwSFlz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\nl0iBAAAAAElFTkSuQmCC\n",
            "text/plain": [
              "<Figure size 432x288 with 1 Axes>"
            ]
          },
          "metadata": {
            "tags": []
          }
        },
        {
          "output_type": "stream",
          "text": [
            "image name [[ 62  51  90 ...  80 102 138]\n",
            " [ 29  19 123 ...  88  84  82]\n",
            " [ 19  29 128 ...  18  13  56]\n",
            " ...\n",
            " [105  55 103 ... 126 149  92]\n",
            " [104 113 124 ... 134 123 130]\n",
            " [107 122  99 ... 139 130 132]]\n",
            "model prediction  [0.4855689 0.5144311]\n"
          ],
          "name": "stdout"
        },
        {
          "output_type": "display_data",
          "data": {
            "image/png": "iVBORw0KGgoAAAANSUhEUgAAAXcAAAEICAYAAACktLTqAAAABHNCSVQICAgIfAhkiAAAAAlwSFlz\nAAALEgAACxIB0t1+/AAAADl0RVh0U29mdHdhcmUAbWF0cGxvdGxpYiB2ZXJzaW9uIDMuMC4zLCBo\ndHRwOi8vbWF0cGxvdGxpYi5vcmcvnQurowAAEwhJREFUeJzt3X+w3XV95/Hni8QAKj+iZCiGhEBh\nZVOwaq9gZZUMohLLD8fqGna2iqtSZhukwrbA6CLLVqtFrbVlBlGYoq6GH1PWMI1FBcGVYuWCSAFF\nQ0yaUCuJhABCCIH3/nEOzU1yk3suObn35nOfj5k7+X5+nO95n8zJ637z+X7P96SqkCS1ZbfxLkCS\n1H+GuyQ1yHCXpAYZ7pLUIMNdkhpkuEtSgwx3SWqQ4a5JI8nyJE8meSzJI0n+MckZSfx3oOb4ptZk\nc1JV7QUcBHwCOBe4fHxLkvrPcNekVFXrqmox8C7gPUmOSLJPki8lWZ1kRZKPPHdUn2RKkk8nWZPk\n50kWJqkkU8f3lUjD842pSa2qfpBkFfB64HeBfYBDgJcC3wR+QefI/gPAfOCVwK+Ba8alYKlHHrlL\n8K/AS4AFwPlV9VhVLQc+DfxBd85/Bv6qqlZV1Vo6SzrShGW4SzCTzv9iXwCsGNK/ojsG8DJg5ZCx\nodvShGO4a1JL8ho6Af5/gafpnGh9zmzgwe72L4ADh4zNGpMCpefJcNeklGTvJCcCi4CvVNWPgKuB\njyXZK8lBwNnAV7oPuRo4K8nMJPvSucpGmrA8oarJ5vokG4FngfuAzwCXdsfOBP4aWAasB74AXNEd\n+wLwH4C7gUeBzwHzgGfGqnBpNOKXdUijl2Q+cGlVHTTiZGkcuCwj9SDJnknemmRqkpnAR4Hrxrsu\naVs8cpd6kOSFwC3A4cCTwN8DZ1XVo+NamLQNhrskNchlGUlq0LhdLbPffvvVnDlzxuvpJWmXdMcd\nd6ypqhkjzRu3cJ8zZw6Dg4Pj9fSStEtKsmLkWS7LSFKTDHdJapDhLkkNMtwlqUGGuyQ1yHCXpAYZ\n7pLUIMNdkhpkuEtSg/yyDmknSMa7Ak1kY3G/Ro/cJalBPYV7khOS3J9kaZLzhhk/LcnqJHd1f97f\n/1IlSb0acVkmyRTgEuBNwCrg9iSLq+q+LaZeVVULd0KNkqRR6mXN/ShgaVUtA0iyCDiFzpcLS5os\nZtwH88+EWbfB+n3hzvfDzR+FmrLtx+y7HP744K3773kXXLtoU/uQb8Grrujse98Vnf3efGG/X8Gk\n0ku4zwRWDmmvAo4eZt7vJ3kD8FPgQ1W1cpg5knZFe6yFdx8Pq+fC174OL3kA3nwO5Fm46c9GfvwN\nn4KVx2xqP7Hf5uOH/gPsfzcseyMcsQjtuH5dLXM98LWqeirJHwJXAsdtOSnJ6cDpALNnz+7TU0va\n6QYuhalPwlV/B0/tDcveBLs/CvMuhFv/tNO3Pb96Oax67bbHv3UxfPPTne3Dv963siezXk6oPgjM\nGtI+sNv376rqV1X1VLf5ReB3httRVV1WVQNVNTBjxohfJCJpojjsG/DAWzYP8XsWwAuehINu2fH9\nlxfu9Vsvf6O3A4clOTjJNGABsHjohCQHDGmeDPy4fyVKGnf7/QTWHL5537rZsOGFnbGRnPJeuGAK\nnHMAvOXszv8CtFONuCxTVRuTLARuAKYAV1TVvUkuAgarajHwwSQnAxuBh4HTdmLNksbaHms7J1G3\ntH467Ll224/buDv84I/ggTd3jvrn3AzHfBKmPwCLXH7ZmXpac6+qJcCSLfouGLJ9PnB+f0uTtMt7\n/ABY8jeb2svnweP7w4n/Hfb/Efzyt8ettNbtmrcf8LPd2p6x+Gz3ZLN+Ouy+buv+PdbCk9NHt6/7\n3tEJ95fdYbjvRJ7FkDSyNYdvvba+90qY9sTWa/Ej6h6clQdpO5PhLmlkP5sPh94A0x7b1HfEVfD0\nnrDi2NHta+61nT9/MexFdeqTXXNZRtLYGjwDjv4cvOvtcOu5MH1Z5xr3287e/PLIDx4Ky4+FxZd3\n2vMu7PxCWHlMZ95B34XXXQz3vR1++YpNj9tnBcy8vbM9ZUPn07Bzr4UNL4Kl88fqVTbFcJ8g7psB\nZ86H22bBvuvh/XfCR2+GKT0uHz8bOOoDcMfL4Pqvwok/3TRWwMdfD58fgIdeBHNXw59/G97ywM54\nJWrS+unwpRvhrQvh1JM6V87c9qGtbxGw20bY7ZlN7TWHw+s+Ba/+Yuea+HWz4R//BL774c0fd/B3\n4G3v3dT+rWs6P48cBJ9dvrNeVdMM9wlg7R5w/Ls7ofv1r8EDL4Fz3twJ7D+7qbd9fPHVsGobHxL8\nxH+Ci46Fi74Dr/w3+Mor4KT/ArdeDq/51/69DjVu9Vy4coQ35JZBfM+Czs9I7jqt86O+cc19Arh0\nAJ6cCn93FbxpGZwxCB+9BT7zu/Do7iM/fu0e8OHj4GM3bj22YQr8+evhT2+Fc2/tHK1/+To48pfw\nv+b1/aVImiAM9wngG4d1Qnfvpzb1LbgHnnwB3HLQyI//n8fBMSvhjT/feuyB6fDY7p1fGkO9+QH4\n1iGd8JfUHsN9AvjJfnD4ms37Zq+DF27ojG3P3fvDFa+CT31z+PH13YW3ac9s3j/tGdgwFZaN8hJl\nSbsGw30CWLtH5yTqlqavh7V7bv+xZ86HhT+AQx8efvyQtZCC21+2ef8PZnb+fHiE/UvaNXlCdRe2\n6Ai4fz+4/mvbnrPPU3DqP8PH3gBHPAS//Uv4P0fCtw/pjO/mhzmlJnnkPgFMXw/rhjlxunYPmL6N\nm+c9vRv8yZvg3O91rqp5ZI9NJ19//QJ4bNqmuZ/9h86VOMedBi89Fy4+Bj7y3c7Ybzze15ciaYLw\nyH0COHzN1mvrK/eGJ6ZtvRb/nF9Pg1X7wNkndH6GWvBO+M2HYennOu0ZT8BNV3YulVy3O7z8V/DZ\n18JvPAZzHun/65E0/gz3CWD+zzpH049Ng702dPquOgL2fBqOXTH8Y168Ab7zt5v3/duL4dR3wMe/\nDccNc+XMgY92vmll/dTOSdj/9sN+vgpJE4nhPgGcMQifOxre/q7OtejLpsOF8+Ds2za/PPLQD8Kx\ny+HyxTD1WZi3fPP9LO/ebvvIh+DoId+V9eVXwNNTOidX/2Uf+MvXwpRn4fzv7eQXJmncGO4TwPT1\ncOOXYOFb4aRTO1fOfOg2uPDmzedt3A2eeR5nSZ4NfPIYWLEv7LMe3vYT+PiNnaN/SW1KjdO9rwcG\nBmpwcPD5Pdj7uWt7JsD93H2Lant25C2a5I6qGhhpnlfLSFKDDHdJapDhLkkNMtwlqUGGuyQ1yHCX\npAYZ7pLUIMNdkhpkuEtSgwx3SWqQ4S5JDTLcJalBhrskNchwl6QGGe6S1KCewj3JCUnuT7I0yXnb\nmff7SSrJiPcaliTtPCOGe5IpwCXAfGAucGqSucPM2ws4C/infhcpSRqdXo7cjwKWVtWyqtoALAJO\nGWbe/wY+CazvY32SpOehl3CfCawc0l7V7ft3SV4NzKqqv9/ejpKcnmQwyeDq1atHXawkqTc7fEI1\nyW7AZ4BzRppbVZdV1UBVDcyYMWNHn1qStA29hPuDwKwh7QO7fc/ZCzgCuDnJcuC1wGJPqkrS+Okl\n3G8HDktycJJpwAJg8XODVbWuqvarqjlVNQf4PnByVQ3ulIolSSMaMdyraiOwELgB+DFwdVXdm+Si\nJCfv7AIlSaM3tZdJVbUEWLJF3wXbmDtvx8uSJO0IP6EqSQ0y3CWpQYa7JDXIcJekBhnuktQgw12S\nGmS4S1KDDHdJapDhLkkNMtwlqUGGuyQ1yHCXpAYZ7pLUIMNdkhpkuEtSgwx3SWqQ4S5JDTLcJalB\nhrskNchwl6QGGe6S1CDDXZIaZLhLUoMMd0lqkOEuSQ0y3CWpQYa7JDXIcJekBhnuktQgw12SGmS4\nS1KDegr3JCckuT/J0iTnDTN+RpJ/TnJXku8lmdv/UiVJvRox3JNMAS4B5gNzgVOHCe+vVtWRVfVK\n4C+Az/S9UklSz3o5cj8KWFpVy6pqA7AIOGXohKp6dEjzRUD1r0RJ0mhN7WHOTGDlkPYq4OgtJyX5\nI+BsYBpw3HA7SnI6cDrA7NmzR1urJKlHfTuhWlWXVNVvAucCH9nGnMuqaqCqBmbMmNGvp5YkbaGX\ncH8QmDWkfWC3b1sWAW/bkaIkSTuml3C/HTgsycFJpgELgMVDJyQ5bEjz94Cf9a9ESdJojbjmXlUb\nkywEbgCmAFdU1b1JLgIGq2oxsDDJ8cDTwFrgPTuzaEnS9vVyQpWqWgIs2aLvgiHbZ/W5LknSDvAT\nqpLUIMNdkhpkuEtSgwx3SWqQ4S5JDTLcJalBhrskNchwl6QGGe6S1CDDXZIaZLhLUoMMd0lqkOEu\nSQ0y3CWpQYa7JDXIcJekBhnuktQgw12SGmS4S1KDDHdJapDhLkkNMtwlqUGGuyQ1yHCXpAYZ7pLU\nIMNdkhpkuEtSgwx3SWqQ4S5JDTLcJalBhrskNaincE9yQpL7kyxNct4w42cnuS/J3UluTHJQ/0uV\nJPVqxHBPMgW4BJgPzAVOTTJ3i2k/BAaq6hXAtcBf9LtQSVLvejlyPwpYWlXLqmoDsAg4ZeiEqvpO\nVT3RbX4fOLC/ZUqSRqOXcJ8JrBzSXtXt25b3Ad8YbiDJ6UkGkwyuXr269yolSaPS1xOqSf4rMABc\nPNx4VV1WVQNVNTBjxox+PrUkaYipPcx5EJg1pH1gt28zSY4HPgwcW1VP9ac8SdLz0cuR++3AYUkO\nTjINWAAsHjohyauAzwMnV9VD/S9TkjQaI4Z7VW0EFgI3AD8Grq6qe5NclOTk7rSLgRcD1yS5K8ni\nbexOkjQGelmWoaqWAEu26LtgyPbxfa5LkrQD/ISqJDXIcJekBhnuktQgw12SGmS4S1KDDHdJapDh\nLkkNMtwlqUGGuyQ1yHCXpAYZ7pLUIMNdkhpkuEtSgwx3SWqQ4S5JDTLcJalBhrskNchwl6QGGe6S\n1CDDXZIaZLhLUoMMd0lqkOEuSQ0y3CWpQYa7JDXIcJekBhnuktQgw12SGmS4S1KDDHdJapDhLkkN\n6inck5yQ5P4kS5OcN8z4G5LcmWRjknf0v0xJ0miMGO5JpgCXAPOBucCpSeZuMe1fgNOAr/a7QEnS\n6E3tYc5RwNKqWgaQZBFwCnDfcxOqanl37NmdUKMkaZR6WZaZCawc0l7V7ZMkTVBjekI1yelJBpMM\nrl69eiyfWpImlV7C/UFg1pD2gd2+Uauqy6pqoKoGZsyY8Xx2IUnqQS/hfjtwWJKDk0wDFgCLd25Z\nkqQdMWK4V9VGYCFwA/Bj4OqqujfJRUlOBkjymiSrgHcCn09y784sWpK0fb1cLUNVLQGWbNF3wZDt\n2+ks10iSJgA/oSpJDTLcJalBhrskNchwl6QGGe6S1CDDXZIaZLhLUoMMd0lqkOEuSQ0y3CWpQYa7\nJDXIcJekBhnuktQgw12SGmS4S1KDDHdJapDhLkkNMtwlqUGGuyQ1yHCXpAYZ7pLUIMNdkhpkuEtS\ngwx3SWqQ4S5JDTLcJalBhrskNchwl6QGGe6S1CDDXZIaZLhLUoMMd0lqUE/hnuSEJPcnWZrkvGHG\nd09yVXf8n5LM6XehkqTejRjuSaYAlwDzgbnAqUnmbjHtfcDaqjoU+Evgk/0uVJLUu16O3I8CllbV\nsqraACwCTtlizinAld3ta4E3Jkn/ypQkjcbUHubMBFYOaa8Cjt7WnKramGQd8FJgzdBJSU4HTu82\nH09y//MpWlvZjy3+ric1jysmIt+jQ+zgW/SgXib1Eu59U1WXAZeN5XNOBkkGq2pgvOuQtsX36Njr\nZVnmQWDWkPaB3b5h5ySZCuwD/KofBUqSRq+XcL8dOCzJwUmmAQuAxVvMWQy8p7v9DuCmqqr+lSlJ\nGo0Rl2W6a+gLgRuAKcAVVXVvkouAwapaDFwOfDnJUuBhOr8ANHZc6tJE53t0jMUDbElqj59QlaQG\nGe6S1CDDvUFJ5iV53XjXockpyYVJ/sd41zHZGe5tmgcY7tIkZrjvQpK8O8ndSX6U5MtJTureqO2H\nSb6dZP/uTdvOAD6U5K4krx/fqjUZJPlwkp8m+R7w8m7fK5N8v/uevS7J9G7/a7p9dyW5OMk941p8\no7xaZheR5LeA64DXVdWaJC8BCnikqirJ+4H/WFXnJLkQeLyqPjWOJWuSSPI7wN/SuS3JVOBO4FLg\n3cCZVXVL99Lpvavqj7th/oGqui3JJ4ATq+qIcSq/WWN6+wHtkOOAa6pqDUBVPZzkSOCqJAcA04Cf\nj2eBmrReD1xXVU8AJFkMvAjYt6pu6c65Ergmyb7AXlV1W7f/q8CJY13wZOCyzK7tr4G/qaojgT8E\n9hjneiRNEIb7ruMm4J1JXgrQXZbZh033+XnPkLmPAXuNbXmaxL4LvC3Jnkn2Ak4Cfg2sHXLO5w+A\nW6rqEeCxJM/dWdZPs+8kLsvsIrq3fPgYcEuSZ4AfAhfS+a/uWjrhf3B3+vXAtUlOobPm+f/Go2ZN\nDlV1Z5KrgB8BD9G5HxV0DjguTfJCYBnw3m7/+4AvJHkWuAVYN8YlTwqeUJU0ppK8uKoe726fBxxQ\nVWeNc1nN8chd0lj7vSTn08mfFcBp41tOmzxyl6QGeUJVkhpkuEtSgwx3SWqQ4S5JDTLcJalB/x+o\nL45IUKBX/AAAAABJRU5ErkJggg==\n",
            "text/plain": [
              "<Figure size 432x288 with 1 Axes>"
            ]
          },
          "metadata": {
            "tags": []
          }
        },
        {
          "output_type": "stream",
          "text": [
            "image name [[219 222 222 ... 218 243 246]\n",
            " [232 231 231 ... 240 245 246]\n",
            " [219 218 229 ... 240 245 246]\n",
            " ...\n",
            " [114 124 126 ... 235 223 239]\n",
            " [124 139 137 ... 235 221 238]\n",
            " [116 137 128 ... 235 226 238]]\n",
            "model prediction  [0.48532185 0.5146781 ]\n"
          ],
          "name": "stdout"
        },
        {
          "output_type": "display_data",
          "data": {
            "image/png": "iVBORw0KGgoAAAANSUhEUgAAAXcAAAEICAYAAACktLTqAAAABHNCSVQICAgIfAhkiAAAAAlwSFlz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\nP49ujHorO+EoAAAAAElFTkSuQmCC\n",
            "text/plain": [
              "<Figure size 432x288 with 1 Axes>"
            ]
          },
          "metadata": {
            "tags": []
          }
        },
        {
          "output_type": "stream",
          "text": [
            "image name [[217 229 229 ...  81  78  62]\n",
            " [217 226 235 ...  77  67  87]\n",
            " [193 204 237 ...  77 170 184]\n",
            " ...\n",
            " [244 242 241 ... 229 226 225]\n",
            " [235 231 226 ... 228 215 212]\n",
            " [229 224 224 ... 214 204 193]]\n",
            "model prediction  [0.48500854 0.51499146]\n"
          ],
          "name": "stdout"
        },
        {
          "output_type": "display_data",
          "data": {
            "image/png": "iVBORw0KGgoAAAANSUhEUgAAAXcAAAEICAYAAACktLTqAAAABHNCSVQICAgIfAhkiAAAAAlwSFlz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\n",
            "text/plain": [
              "<Figure size 432x288 with 1 Axes>"
            ]
          },
          "metadata": {
            "tags": []
          }
        },
        {
          "output_type": "stream",
          "text": [
            "image name [[ 79  81  86 ... 156 154 126]\n",
            " [ 81  83  88 ... 159 156 124]\n",
            " [ 80  84  90 ... 157 156 122]\n",
            " ...\n",
            " [ 65 159  69 ...  79  69  48]\n",
            " [ 61 157  67 ...  80  76  73]\n",
            " [ 60 149  66 ...  79  75  74]]\n",
            "model prediction  [0.48401418 0.5159858 ]\n"
          ],
          "name": "stdout"
        },
        {
          "output_type": "display_data",
          "data": {
            "image/png": "iVBORw0KGgoAAAANSUhEUgAAAXcAAAEICAYAAACktLTqAAAABHNCSVQICAgIfAhkiAAAAAlwSFlz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\n+v/imsHHpMlplwAAAABJRU5ErkJggg==\n",
            "text/plain": [
              "<Figure size 432x288 with 1 Axes>"
            ]
          },
          "metadata": {
            "tags": []
          }
        },
        {
          "output_type": "stream",
          "text": [
            "image name [[ 42  42  43 ...  99  99  99]\n",
            " [ 44  44  45 ...  99  99  99]\n",
            " [ 46  47  46 ...  99  97  99]\n",
            " ...\n",
            " [ 82  21  38 ... 118 121 123]\n",
            " [ 35  47  25 ...  72  79  82]\n",
            " [168 167 177 ...  76  81  81]]\n",
            "model prediction  [0.48638144 0.5136186 ]\n"
          ],
          "name": "stdout"
        },
        {
          "output_type": "display_data",
          "data": {
            "image/png": "iVBORw0KGgoAAAANSUhEUgAAAXcAAAEICAYAAACktLTqAAAABHNCSVQICAgIfAhkiAAAAAlwSFlz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\nl0iBAAAAAElFTkSuQmCC\n",
            "text/plain": [
              "<Figure size 432x288 with 1 Axes>"
            ]
          },
          "metadata": {
            "tags": []
          }
        },
        {
          "output_type": "stream",
          "text": [
            "image name [[135 135 134 ... 110 106 105]\n",
            " [134 137 135 ... 100 100 103]\n",
            " [136 136 138 ... 104 100  98]\n",
            " ...\n",
            " [ 68  76  66 ...  77  83  79]\n",
            " [ 67  80  61 ...  88  82  76]\n",
            " [ 69  69  75 ...  69  73  75]]\n",
            "model prediction  [0.48728108 0.51271886]\n"
          ],
          "name": "stdout"
        },
        {
          "output_type": "display_data",
          "data": {
            "image/png": "iVBORw0KGgoAAAANSUhEUgAAAXcAAAEICAYAAACktLTqAAAABHNCSVQICAgIfAhkiAAAAAlwSFlz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\nuEtSg/4/8mT20TsefMwAAAAASUVORK5CYII=\n",
            "text/plain": [
              "<Figure size 432x288 with 1 Axes>"
            ]
          },
          "metadata": {
            "tags": []
          }
        },
        {
          "output_type": "stream",
          "text": [
            "image name [[251 252 252 ... 214 211 211]\n",
            " [253 253 254 ... 216 211 213]\n",
            " [248 254 253 ... 213 209 205]\n",
            " ...\n",
            " [188 217 202 ... 216 129 217]\n",
            " [194 167 188 ... 192 194 183]\n",
            " [193 166 175 ... 216 190 186]]\n",
            "model prediction  [0.48301962 0.5169804 ]\n"
          ],
          "name": "stdout"
        },
        {
          "output_type": "display_data",
          "data": {
            "image/png": "iVBORw0KGgoAAAANSUhEUgAAAXcAAAEICAYAAACktLTqAAAABHNCSVQICAgIfAhkiAAAAAlwSFlz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\nUVsD184AAAAASUVORK5CYII=\n",
            "text/plain": [
              "<Figure size 432x288 with 1 Axes>"
            ]
          },
          "metadata": {
            "tags": []
          }
        },
        {
          "output_type": "stream",
          "text": [
            "image name [[140  96 114 ...  78  91  78]\n",
            " [117  98 110 ...  73  92 136]\n",
            " [ 69  90 113 ...  67 115  69]\n",
            " ...\n",
            " [ 53  76  92 ... 202 224 180]\n",
            " [ 45  84  44 ... 217 209 165]\n",
            " [ 59  75  22 ... 205 201 188]]\n",
            "model prediction  [0.48353633 0.5164637 ]\n"
          ],
          "name": "stdout"
        },
        {
          "output_type": "display_data",
          "data": {
            "image/png": "iVBORw0KGgoAAAANSUhEUgAAAXcAAAEICAYAAACktLTqAAAABHNCSVQICAgIfAhkiAAAAAlwSFlz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\nAElFTkSuQmCC\n",
            "text/plain": [
              "<Figure size 432x288 with 1 Axes>"
            ]
          },
          "metadata": {
            "tags": []
          }
        }
      ]
    },
    {
      "cell_type": "markdown",
      "metadata": {
        "id": "NEA5NAQ4_mU3",
        "colab_type": "text"
      },
      "source": [
        ""
      ]
    },
    {
      "cell_type": "code",
      "metadata": {
        "id": "-96qL4V45r_8",
        "colab_type": "code",
        "outputId": "69422d27-7e17-462f-e711-72ad30fe7b31",
        "colab": {
          "base_uri": "https://localhost:8080/",
          "height": 35
        }
      },
      "source": [
        "with open(\"final_results(dogs).csv\",mode=\"w\") as f:\n",
        "    f.write(\"id,pred \\n\")\n",
        "    \n",
        "with open(\"final_results.csv(dogs)\",mode=\"a\") as r:\n",
        "    for data in tqdm(test_data):\n",
        "        img_class = data[1]\n",
        "        img = data[0]\n",
        "        imgs = img.reshape((IMAGE_SIZE,IMAGE_SIZE,1))\n",
        "        model_out = model.predict([imgs])[0]\n",
        "        r.write(\"{},{} \\n\".format(img_class,model_out[1]))"
      ],
      "execution_count": 0,
      "outputs": [
        {
          "output_type": "stream",
          "text": [
            "100%|██████████| 40/40 [00:00<00:00, 312.90it/s]\n"
          ],
          "name": "stderr"
        }
      ]
    },
    {
      "cell_type": "code",
      "metadata": {
        "id": "-YAlF_E15yT6",
        "colab_type": "code",
        "colab": {}
      },
      "source": [
        ""
      ],
      "execution_count": 0,
      "outputs": []
    }
  ]
}
